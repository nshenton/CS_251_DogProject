{
 "cells": [
  {
   "cell_type": "code",
   "execution_count": 64,
   "metadata": {},
   "outputs": [],
   "source": [
    "import IPython.display as display\n",
    "from tensorflow.keras.models import Sequential\n",
    "from tensorflow.keras.layers import Dense, Conv2D, Flatten, Dropout, MaxPooling2D\n",
    "from tensorflow.keras.preprocessing.image import ImageDataGenerator\n",
    "from tensorflow.keras import backend\n",
    "from tensorflow.keras.applications.vgg16 import VGG16\n",
    "from tensorflow.keras.applications.resnet50 import ResNet50\n",
    "from PIL import Image\n",
    "import numpy as np\n",
    "import matplotlib.pyplot as plt\n",
    "import pathlib\n",
    "from keras.preprocessing.image import ImageDataGenerator\n",
    "from sklearn.metrics import confusion_matrix\n",
    "from tensorflow.keras.constraints import max_norm\n",
    "from sklearn.utils.multiclass import unique_labels\n",
    "from tensorflow.keras.applications.vgg16 import preprocess_input, decode_predictions\n",
    "from tensorflow.keras.preprocessing import image\n",
    "from tensorflow.keras.applications.resnet50 import preprocess_input, decode_predictions\n",
    "import glob"
   ]
  },
  {
   "cell_type": "code",
   "execution_count": 30,
   "metadata": {},
   "outputs": [
    {
     "name": "stdout",
     "output_type": "stream",
     "text": [
      "Found 16418 images belonging to 120 classes.\n",
      "Found 2009 images belonging to 120 classes.\n"
     ]
    }
   ],
   "source": [
    "shift = 0.2\n",
    "IMAGE_SIZE = 224\n",
    "BATCH_SIZE = 300\n",
    "train_datagen = ImageDataGenerator(\n",
    "        rescale=1./255,\n",
    "        shear_range=0.5,\n",
    "        zoom_range=0.5,\n",
    "        horizontal_flip=True,\n",
    "        rotation_range = 90)\n",
    "\n",
    "val_datagen = ImageDataGenerator(rescale=1./255,\n",
    "        shear_range=0.5,\n",
    "        zoom_range=0.5,\n",
    "        horizontal_flip=True,\n",
    "        rotation_range = 90)\n",
    "\n",
    "test_datagen = ImageDataGenerator(rescale=1./255)\n",
    "\n",
    "train_generator = train_datagen.flow_from_directory(\n",
    "        \"output/train\",\n",
    "        target_size=(224, 224),\n",
    "        batch_size=32,\n",
    "        class_mode='categorical')\n",
    "\n",
    "validation_generator = val_datagen.flow_from_directory(\n",
    "        \"output/val\",\n",
    "        target_size=(224, 224),\n",
    "        batch_size=32,\n",
    "        class_mode='categorical')"
   ]
  },
  {
   "cell_type": "code",
   "execution_count": 68,
   "metadata": {},
   "outputs": [
    {
     "name": "stdout",
     "output_type": "stream",
     "text": [
      "Predicted: [('n02085936', 'Maltese_dog', 0.65957993), ('n02097474', 'Tibetan_terrier', 0.07856042), ('n02113624', 'toy_poodle', 0.07116889)]\n",
      "Predicted: [('n02085936', 'Maltese_dog', 0.9407695), ('n02098413', 'Lhasa', 0.057072826), ('n02097474', 'Tibetan_terrier', 0.0015726106)]\n",
      "Predicted: [('n02085936', 'Maltese_dog', 0.9936731), ('n02113624', 'toy_poodle', 0.0044965916), ('n02098413', 'Lhasa', 0.001171993)]\n",
      "Predicted: [('n02085936', 'Maltese_dog', 0.892803), ('n02098413', 'Lhasa', 0.058563646), ('n02086240', 'Shih-Tzu', 0.015526939)]\n",
      "Predicted: [('n02085936', 'Maltese_dog', 0.96616167), ('n02086240', 'Shih-Tzu', 0.0141171375), ('n02098413', 'Lhasa', 0.010279941)]\n",
      "Predicted: [('n02085936', 'Maltese_dog', 0.57148445), ('n02098413', 'Lhasa', 0.34505647), ('n02086240', 'Shih-Tzu', 0.0381302)]\n",
      "Predicted: [('n02085936', 'Maltese_dog', 0.9831993), ('n02098413', 'Lhasa', 0.006142203), ('n02096437', 'Dandie_Dinmont', 0.0018037976)]\n",
      "Predicted: [('n02085936', 'Maltese_dog', 0.9220808), ('n02096437', 'Dandie_Dinmont', 0.026047986), ('n02098286', 'West_Highland_white_terrier', 0.024606012)]\n",
      "Predicted: [('n02085936', 'Maltese_dog', 0.9978811), ('n02098413', 'Lhasa', 0.0016788682), ('n02086240', 'Shih-Tzu', 0.00013636371)]\n",
      "Predicted: [('n02085936', 'Maltese_dog', 0.98341644), ('n02098413', 'Lhasa', 0.007936797), ('n02085782', 'Japanese_spaniel', 0.0038065847)]\n",
      "Predicted: [('n02085936', 'Maltese_dog', 0.98750687), ('n02113624', 'toy_poodle', 0.004581912), ('n02086240', 'Shih-Tzu', 0.003240679)]\n",
      "Predicted: [('n02085936', 'Maltese_dog', 0.94863975), ('n02098286', 'West_Highland_white_terrier', 0.020579683), ('n02098413', 'Lhasa', 0.010247668)]\n",
      "Predicted: [('n02085936', 'Maltese_dog', 0.31976908), ('n02098286', 'West_Highland_white_terrier', 0.2766993), ('n02113624', 'toy_poodle', 0.17197587)]\n",
      "Predicted: [('n02085936', 'Maltese_dog', 0.9714722), ('n02086240', 'Shih-Tzu', 0.016305566), ('n02098413', 'Lhasa', 0.00948132)]\n",
      "Predicted: [('n02085936', 'Maltese_dog', 0.96260184), ('n02098413', 'Lhasa', 0.017830886), ('n02097474', 'Tibetan_terrier', 0.013375469)]\n",
      "Predicted: [('n02085936', 'Maltese_dog', 0.5376078), ('n02096437', 'Dandie_Dinmont', 0.1331753), ('n02113624', 'toy_poodle', 0.07786796)]\n",
      "Predicted: [('n02085936', 'Maltese_dog', 0.61216086), ('n02113712', 'miniature_poodle', 0.12764107), ('n02113624', 'toy_poodle', 0.11926447)]\n",
      "Predicted: [('n02085936', 'Maltese_dog', 0.9889774), ('n02096437', 'Dandie_Dinmont', 0.0067965705), ('n02098413', 'Lhasa', 0.0016072207)]\n",
      "Predicted: [('n02085936', 'Maltese_dog', 0.90088475), ('n02098286', 'West_Highland_white_terrier', 0.04055108), ('n02113624', 'toy_poodle', 0.018566204)]\n",
      "Predicted: [('n02085936', 'Maltese_dog', 0.98528254), ('n02086240', 'Shih-Tzu', 0.007983848), ('n02098413', 'Lhasa', 0.0013507196)]\n",
      "Predicted: [('n02085936', 'Maltese_dog', 0.9174451), ('n02086240', 'Shih-Tzu', 0.023411918), ('n02098413', 'Lhasa', 0.019495817)]\n",
      "Predicted: [('n02085936', 'Maltese_dog', 0.95003504), ('n02098286', 'West_Highland_white_terrier', 0.007974076), ('n02113624', 'toy_poodle', 0.007324909)]\n",
      "Predicted: [('n02085936', 'Maltese_dog', 0.9350105), ('n02097474', 'Tibetan_terrier', 0.04681606), ('n02098413', 'Lhasa', 0.013699819)]\n",
      "Predicted: [('n02085936', 'Maltese_dog', 0.929727), ('n02113624', 'toy_poodle', 0.039817777), ('n02098286', 'West_Highland_white_terrier', 0.006480853)]\n",
      "Predicted: [('n02085936', 'Maltese_dog', 0.9983896), ('n02098413', 'Lhasa', 0.0013174627), ('n02097474', 'Tibetan_terrier', 0.0002669633)]\n",
      "Predicted: [('n02085936', 'Maltese_dog', 0.99130696), ('n02086240', 'Shih-Tzu', 0.0046421266), ('n02098413', 'Lhasa', 0.0037762332)]\n"
     ]
    }
   ],
   "source": [
    "img_paths = glob.glob('output/test/n02085936-Maltese_dog/*.jpg')\n",
    "for img_path in img_paths:\n",
    "    img = image.load_img(img_path, target_size=(224, 224))\n",
    "    x = image.img_to_array(img)\n",
    "    x = np.expand_dims(x, axis=0)\n",
    "    x = preprocess_input(x)\n",
    "    preds = model.predict(x)\n",
    "    print('Predicted:', decode_predictions(preds, top=3)[0])"
   ]
  },
  {
   "cell_type": "code",
   "execution_count": 58,
   "metadata": {},
   "outputs": [],
   "source": []
  },
  {
   "cell_type": "code",
   "execution_count": 59,
   "metadata": {},
   "outputs": [
    {
     "name": "stdout",
     "output_type": "stream",
     "text": [
      "Predicted: [('n02085936', 'Maltese_dog', 0.90088475), ('n02098286', 'West_Highland_white_terrier', 0.04055108), ('n02113624', 'toy_poodle', 0.018566204)]\n"
     ]
    }
   ],
   "source": [
    "print('Predicted:', decode_predictions(preds, top=3)[0])"
   ]
  },
  {
   "cell_type": "code",
   "execution_count": 32,
   "metadata": {},
   "outputs": [
    {
     "name": "stdout",
     "output_type": "stream",
     "text": [
      "Epoch 1/2\n",
      "10/10 [==============================] - 45s 4s/step - loss: 0.1490 - accuracy: 0.9285 - val_loss: 0.2173 - val_accuracy: 0.9917\n",
      "Epoch 2/2\n",
      "10/10 [==============================] - 44s 4s/step - loss: 0.0580 - accuracy: 0.9917 - val_loss: 0.1270 - val_accuracy: 0.9917\n"
     ]
    }
   ],
   "source": []
  },
  {
   "cell_type": "code",
   "execution_count": 33,
   "metadata": {},
   "outputs": [
    {
     "data": {
      "image/png": "[encoded data removed]",
      "text/plain": [
       "<Figure size 576x576 with 2 Axes>"
      ]
     },
     "metadata": {
      "needs_background": "light"
     },
     "output_type": "display_data"
    }
   ],
   "source": []
  },
  {
   "cell_type": "code",
   "execution_count": 35,
   "metadata": {},
   "outputs": [
    {
     "name": "stdout",
     "output_type": "stream",
     "text": [
      "Found 2153 images belonging to 120 classes.\n",
      "430/430 [==============================] - 79s 184ms/step\n",
      "[23 23 23 ... 23 23 23]\n"
     ]
    }
   ],
   "source": []
  },
  {
   "cell_type": "code",
   "execution_count": null,
   "metadata": {},
   "outputs": [],
   "source": []
  }
 ],
 "metadata": {
  "kernelspec": {
   "display_name": "Python 3",
   "language": "python",
   "name": "python3"
  },
  "language_info": {
   "codemirror_mode": {
    "name": "ipython",
    "version": 3
   },
   "file_extension": ".py",
   "mimetype": "text/x-python",
   "name": "python",
   "nbconvert_exporter": "python",
   "pygments_lexer": "ipython3",
   "version": "3.7.4"
  }
 },
 "nbformat": 4,
 "nbformat_minor": 2
}
