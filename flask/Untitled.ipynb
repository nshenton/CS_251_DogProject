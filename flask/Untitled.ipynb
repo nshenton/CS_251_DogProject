{
 "cells": [
  {
   "cell_type": "code",
   "execution_count": null,
   "metadata": {
    "scrolled": true
   },
   "outputs": [
    {
     "name": "stdout",
     "output_type": "stream",
     "text": [
      " * Serving Flask app \"myFlask\" (lazy loading)\n",
      " * Environment: production\n",
      "   WARNING: This is a development server. Do not use it in a production deployment.\n",
      "   Use a production WSGI server instead.\n",
      " * Debug mode: off\n"
     ]
    },
    {
     "name": "stderr",
     "output_type": "stream",
     "text": [
      "/home/ec2-user/.local/lib/python3.6/site-packages/sklearn/base.py:318: UserWarning: Trying to unpickle estimator PCA from version 0.21.3 when using version 0.22. This might lead to breaking code or invalid results. Use at your own risk.\n",
      "  UserWarning)\n",
      " * Running on http://0.0.0.0:5000/ (Press CTRL+C to quit)\n",
      "132.198.99.255 - - [06/Dec/2019 18:00:43] \"\u001b[37mPOST /home HTTP/1.1\u001b[0m\" 200 -\n"
     ]
    },
    {
     "name": "stdout",
     "output_type": "stream",
     "text": [
      "['golden_retriever' 'Labrador_retriever' 'cocker_spaniel']\n",
      "[0.7808438  0.1281357  0.03169401 0.00530827]\n"
     ]
    },
    {
     "name": "stderr",
     "output_type": "stream",
     "text": [
      "132.198.99.255 - - [06/Dec/2019 18:06:32] \"\u001b[37mPOST /home HTTP/1.1\u001b[0m\" 200 -\n"
     ]
    },
    {
     "name": "stdout",
     "output_type": "stream",
     "text": [
      "['Border_collie' 'bluetick' 'kelpie']\n",
      "[0.56687564 0.25449896 0.04050391 0.03979966]\n"
     ]
    },
    {
     "name": "stderr",
     "output_type": "stream",
     "text": [
      "132.198.99.255 - - [06/Dec/2019 18:07:41] \"\u001b[37mPOST /home HTTP/1.1\u001b[0m\" 200 -\n"
     ]
    },
    {
     "name": "stdout",
     "output_type": "stream",
     "text": [
      "['Italian_greyhound' 'whippet' 'toy_terrier']\n",
      "[9.9193001e-01 7.7848192e-03 1.5816416e-04 6.0174490e-05]\n"
     ]
    },
    {
     "name": "stderr",
     "output_type": "stream",
     "text": [
      "132.198.99.255 - - [06/Dec/2019 18:08:32] \"\u001b[37mPOST /home HTTP/1.1\u001b[0m\" 200 -\n"
     ]
    },
    {
     "name": "stdout",
     "output_type": "stream",
     "text": [
      "['golden_retriever' 'Labrador_retriever' 'cocker_spaniel']\n",
      "[0.7808438  0.1281357  0.03169401 0.00530827]\n"
     ]
    },
    {
     "name": "stderr",
     "output_type": "stream",
     "text": [
      "[2019-12-06 18:10:16,640] ERROR in app: Exception on /home [POST]\n",
      "Traceback (most recent call last):\n",
      "  File \"/home/ec2-user/.local/lib/python3.6/site-packages/flask/app.py\", line 2446, in wsgi_app\n",
      "    response = self.full_dispatch_request()\n",
      "  File \"/home/ec2-user/.local/lib/python3.6/site-packages/flask/app.py\", line 1951, in full_dispatch_request\n",
      "    rv = self.handle_user_exception(e)\n",
      "  File \"/home/ec2-user/.local/lib/python3.6/site-packages/flask/app.py\", line 1820, in handle_user_exception\n",
      "    reraise(exc_type, exc_value, tb)\n",
      "  File \"/home/ec2-user/.local/lib/python3.6/site-packages/flask/_compat.py\", line 39, in reraise\n",
      "    raise value\n",
      "  File \"/home/ec2-user/.local/lib/python3.6/site-packages/flask/app.py\", line 1949, in full_dispatch_request\n",
      "    rv = self.dispatch_request()\n",
      "  File \"/home/ec2-user/.local/lib/python3.6/site-packages/flask/app.py\", line 1935, in dispatch_request\n",
      "    return self.view_functions[rule.endpoint](**req.view_args)\n",
      "  File \"/home/ec2-user/myFlask.py\", line 36, in home\n",
      "    im = Image.open(b).convert('RGB')\n",
      "  File \"/home/ec2-user/.local/lib/python3.6/site-packages/PIL/Image.py\", line 2818, in open\n",
      "    raise IOError(\"cannot identify image file %r\" % (filename if filename else fp))\n",
      "OSError: cannot identify image file <_io.BytesIO object at 0x7fc6be98f4c0>\n",
      "132.198.99.255 - - [06/Dec/2019 18:10:16] \"\u001b[1m\u001b[35mPOST /home HTTP/1.1\u001b[0m\" 500 -\n",
      "132.198.99.255 - - [06/Dec/2019 18:10:30] \"\u001b[37mPOST /home HTTP/1.1\u001b[0m\" 200 -\n"
     ]
    },
    {
     "name": "stdout",
     "output_type": "stream",
     "text": [
      "['Border_collie' 'bluetick' 'kelpie']\n",
      "[0.56687564 0.25449896 0.04050391 0.03979966]\n"
     ]
    },
    {
     "name": "stderr",
     "output_type": "stream",
     "text": [
      "132.198.99.255 - - [06/Dec/2019 18:11:00] \"\u001b[37mPOST /home HTTP/1.1\u001b[0m\" 200 -\n"
     ]
    },
    {
     "name": "stdout",
     "output_type": "stream",
     "text": [
      "['wire-haired_fox_terrier' 'Tibetan_terrier' 'Lhasa']\n",
      "[0.17763866 0.16890275 0.12158522 0.1086047 ]\n"
     ]
    },
    {
     "name": "stderr",
     "output_type": "stream",
     "text": [
      "132.198.99.255 - - [06/Dec/2019 18:11:36] \"\u001b[37mPOST /home HTTP/1.1\u001b[0m\" 200 -\n"
     ]
    },
    {
     "name": "stdout",
     "output_type": "stream",
     "text": [
      "['golden_retriever' 'Labrador_retriever' 'cocker_spaniel']\n",
      "[0.7808438  0.1281357  0.03169401 0.00530827]\n"
     ]
    },
    {
     "name": "stderr",
     "output_type": "stream",
     "text": [
      "132.198.99.255 - - [06/Dec/2019 18:16:10] \"\u001b[37mPOST /home HTTP/1.1\u001b[0m\" 200 -\n"
     ]
    },
    {
     "name": "stdout",
     "output_type": "stream",
     "text": [
      "['wire-haired_fox_terrier' 'Tibetan_terrier' 'Lhasa']\n",
      "[0.17763866 0.16890275 0.12158522 0.1086047 ]\n"
     ]
    },
    {
     "name": "stderr",
     "output_type": "stream",
     "text": [
      "132.198.99.255 - - [06/Dec/2019 18:22:01] \"\u001b[37mPOST /home HTTP/1.1\u001b[0m\" 200 -\n"
     ]
    },
    {
     "name": "stdout",
     "output_type": "stream",
     "text": [
      "['Tibetan_terrier' 'otterhound' 'Old_English_sheepdog']\n",
      "[0.98335373 0.00310443 0.00301137 0.00202909]\n"
     ]
    },
    {
     "name": "stderr",
     "output_type": "stream",
     "text": [
      "132.198.99.255 - - [06/Dec/2019 18:25:23] \"\u001b[37mPOST /home HTTP/1.1\u001b[0m\" 200 -\n"
     ]
    },
    {
     "name": "stdout",
     "output_type": "stream",
     "text": [
      "['affenpinscher' 'miniature_schnauzer' 'Yorkshire_terrier']\n",
      "[0.25588682 0.13129096 0.09850048 0.08135708]\n"
     ]
    },
    {
     "name": "stderr",
     "output_type": "stream",
     "text": [
      "132.198.99.255 - - [06/Dec/2019 18:28:08] \"\u001b[37mPOST /home HTTP/1.1\u001b[0m\" 200 -\n"
     ]
    },
    {
     "name": "stdout",
     "output_type": "stream",
     "text": [
      "['wire-haired_fox_terrier' 'Tibetan_terrier' 'Lhasa']\n",
      "[0.17763866 0.16890275 0.12158522 0.1086047 ]\n",
      "['Chihuahua' 'toy_terrier' 'Pembroke']\n",
      "[0.71699554 0.21510112 0.01587566 0.01406307]\n"
     ]
    },
    {
     "name": "stderr",
     "output_type": "stream",
     "text": [
      "132.198.99.255 - - [06/Dec/2019 18:29:13] \"\u001b[37mPOST /home HTTP/1.1\u001b[0m\" 200 -\n"
     ]
    },
    {
     "name": "stdout",
     "output_type": "stream",
     "text": [
      "['Border_collie' 'bluetick' 'kelpie']\n",
      "[0.56687564 0.25449896 0.04050391 0.03979966]\n"
     ]
    },
    {
     "name": "stderr",
     "output_type": "stream",
     "text": [
      "132.198.99.255 - - [06/Dec/2019 18:32:09] \"\u001b[37mPOST /home HTTP/1.1\u001b[0m\" 200 -\n"
     ]
    },
    {
     "name": "stdout",
     "output_type": "stream",
     "text": [
      "['wire-haired_fox_terrier' 'Tibetan_terrier' 'Lhasa']\n",
      "[0.17763866 0.16890275 0.12158522 0.1086047 ]\n"
     ]
    },
    {
     "name": "stderr",
     "output_type": "stream",
     "text": [
      "132.198.99.255 - - [06/Dec/2019 18:35:55] \"\u001b[37mPOST /home HTTP/1.1\u001b[0m\" 200 -\n"
     ]
    },
    {
     "name": "stdout",
     "output_type": "stream",
     "text": [
      "['wire-haired_fox_terrier' 'Tibetan_terrier' 'Lhasa']\n",
      "[0.17763866 0.16890275 0.12158522 0.1086047 ]\n"
     ]
    },
    {
     "name": "stderr",
     "output_type": "stream",
     "text": [
      "132.198.99.255 - - [06/Dec/2019 18:42:09] \"\u001b[37mPOST /home HTTP/1.1\u001b[0m\" 200 -\n"
     ]
    },
    {
     "name": "stdout",
     "output_type": "stream",
     "text": [
      "['Border_collie' 'bluetick' 'kelpie']\n",
      "[0.56687564 0.25449896 0.04050391 0.03979966]\n"
     ]
    },
    {
     "name": "stderr",
     "output_type": "stream",
     "text": [
      "132.198.99.255 - - [06/Dec/2019 18:43:07] \"\u001b[37mPOST /home HTTP/1.1\u001b[0m\" 200 -\n"
     ]
    },
    {
     "name": "stdout",
     "output_type": "stream",
     "text": [
      "['golden_retriever' 'Labrador_retriever' 'cocker_spaniel']\n",
      "[0.7808438  0.1281357  0.03169401 0.00530827]\n"
     ]
    },
    {
     "name": "stderr",
     "output_type": "stream",
     "text": [
      "132.198.99.255 - - [06/Dec/2019 18:44:19] \"\u001b[37mPOST /home HTTP/1.1\u001b[0m\" 200 -\n"
     ]
    },
    {
     "name": "stdout",
     "output_type": "stream",
     "text": [
      "['wire-haired_fox_terrier' 'Tibetan_terrier' 'Lhasa']\n",
      "[0.17763866 0.16890275 0.12158522 0.1086047 ]\n"
     ]
    },
    {
     "name": "stderr",
     "output_type": "stream",
     "text": [
      "132.198.99.255 - - [06/Dec/2019 18:48:19] \"\u001b[37mPOST /home HTTP/1.1\u001b[0m\" 200 -\n"
     ]
    },
    {
     "name": "stdout",
     "output_type": "stream",
     "text": [
      "['golden_retriever' 'Labrador_retriever' 'cocker_spaniel']\n",
      "[0.7808438  0.1281357  0.03169401 0.00530827]\n"
     ]
    },
    {
     "name": "stderr",
     "output_type": "stream",
     "text": [
      "132.198.99.255 - - [06/Dec/2019 18:49:45] \"\u001b[37mPOST /home HTTP/1.1\u001b[0m\" 200 -\n"
     ]
    },
    {
     "name": "stdout",
     "output_type": "stream",
     "text": [
      "['Great_Dane' 'dalmatian' 'basenji']\n",
      "[0.9757012  0.01402525 0.00137516 0.00122227]\n"
     ]
    },
    {
     "name": "stderr",
     "output_type": "stream",
     "text": [
      "132.198.99.255 - - [06/Dec/2019 18:53:19] \"\u001b[37mPOST /home HTTP/1.1\u001b[0m\" 200 -\n"
     ]
    },
    {
     "name": "stdout",
     "output_type": "stream",
     "text": [
      "['affenpinscher' 'miniature_schnauzer' 'Yorkshire_terrier']\n",
      "[0.25588682 0.13129096 0.09850048 0.08135708]\n"
     ]
    },
    {
     "name": "stderr",
     "output_type": "stream",
     "text": [
      "132.198.99.255 - - [06/Dec/2019 19:01:25] \"\u001b[37mPOST /home HTTP/1.1\u001b[0m\" 200 -\n"
     ]
    },
    {
     "name": "stdout",
     "output_type": "stream",
     "text": [
      "['Great_Dane' 'dalmatian' 'basenji']\n",
      "[0.9757012  0.01402525 0.00137516 0.00122227]\n"
     ]
    },
    {
     "name": "stderr",
     "output_type": "stream",
     "text": [
      "132.198.99.255 - - [06/Dec/2019 19:04:20] \"\u001b[37mPOST /home HTTP/1.1\u001b[0m\" 200 -\n"
     ]
    },
    {
     "name": "stdout",
     "output_type": "stream",
     "text": [
      "['Border_collie' 'bluetick' 'kelpie']\n",
      "[0.56687564 0.25449896 0.04050391 0.03979966]\n"
     ]
    },
    {
     "name": "stderr",
     "output_type": "stream",
     "text": [
      "132.198.99.255 - - [06/Dec/2019 19:06:30] \"\u001b[37mPOST /home HTTP/1.1\u001b[0m\" 200 -\n"
     ]
    }
   ],
   "source": [
    "%run myFlask.py"
   ]
  },
  {
   "cell_type": "code",
   "execution_count": null,
   "metadata": {},
   "outputs": [],
   "source": []
  },
  {
   "cell_type": "code",
   "execution_count": null,
   "metadata": {},
   "outputs": [],
   "source": []
  }
 ],
 "metadata": {
  "kernelspec": {
   "display_name": "Python 3",
   "language": "python",
   "name": "python3"
  },
  "language_info": {
   "codemirror_mode": {
    "name": "ipython",
    "version": 3
   },
   "file_extension": ".py",
   "mimetype": "text/x-python",
   "name": "python",
   "nbconvert_exporter": "python",
   "pygments_lexer": "ipython3",
   "version": "3.6.8"
  }
 },
 "nbformat": 4,
 "nbformat_minor": 2
}
