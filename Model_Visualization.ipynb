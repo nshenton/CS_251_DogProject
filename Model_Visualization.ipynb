{
 "cells": [
  {
   "cell_type": "code",
   "execution_count": 2,
   "metadata": {},
   "outputs": [],
   "source": [
    "import graphviz as gv"
   ]
  },
  {
   "cell_type": "code",
   "execution_count": null,
   "metadata": {},
   "outputs": [],
   "source": [
    "\n"
   ]
  },
  {
   "cell_type": "code",
   "execution_count": 16,
   "metadata": {},
   "outputs": [
    {
     "data": {
      "text/plain": [
       "'model.gv.png'"
      ]
     },
     "execution_count": 16,
     "metadata": {},
     "output_type": "execute_result"
    }
   ],
   "source": [
    "model = gv.Digraph('model', 'model', format='png', engine='dot')\n",
    "model.attr(rank = 'same')\n",
    "model.node('Image Input')\n",
    "model.node('ResNet50 CNN')\n",
    "model.node('Breed Probabilities')\n",
    "model.node('PCA')\n",
    "model.node('SVM')\n",
    "model.node('Random Forest')\n",
    "model.node('Multi Layer Perceptron')\n",
    "model.node('Binary Classification')\n",
    "\n",
    "model.edge('Image Input', 'ResNet50 CNN')\n",
    "model.edge('ResNet50 CNN', 'Breed Probabilities')\n",
    "model.edge('Breed Probabilities', 'PCA')\n",
    "model.edge('PCA', 'SVM')\n",
    "model.edge('PCA', 'Random Forest')\n",
    "model.edge('PCA', 'Multi Layer Perceptron')\n",
    "model.edge('Random Forest', 'Binary Classification')\n",
    "model.edge('SVM', 'Binary Classification')\n",
    "model.edge('Multi Layer Perceptron', 'Binary Classification')\n",
    "model.view()"
   ]
  },
  {
   "cell_type": "code",
   "execution_count": 18,
   "metadata": {},
   "outputs": [
    {
     "name": "stderr",
     "output_type": "stream",
     "text": [
      "Warning: node Input, port  2 features unrecognized\n"
     ]
    },
    {
     "data": {
      "text/plain": [
       "'nueral_net.gv.png'"
      ]
     },
     "execution_count": 18,
     "metadata": {},
     "output_type": "execute_result"
    }
   ],
   "source": [
    "nueral_net = gv.Digraph('nueral_net', 'nueral_net', format='png', engine='dot')\n",
    "\n",
    "nueral_net.edge('Input: 2 features', 'Dense layer with 48 nodes ReLu activation')\n",
    "nueral_net.edge('Dense layer with 48 nodes ReLu activation', 'Dense layer with 4 nodes ReLu activation')\n",
    "nueral_net.edge('Dense layer with 4 nodes ReLu activation', 'Output layer with 1 nodes Sigmoid activation')\n",
    "nueral_net.view()"
   ]
  },
  {
   "cell_type": "code",
   "execution_count": null,
   "metadata": {},
   "outputs": [],
   "source": []
  }
 ],
 "metadata": {
  "kernelspec": {
   "display_name": "Python 3",
   "language": "python",
   "name": "python3"
  },
  "language_info": {
   "codemirror_mode": {
    "name": "ipython",
    "version": 3
   },
   "file_extension": ".py",
   "mimetype": "text/x-python",
   "name": "python",
   "nbconvert_exporter": "python",
   "pygments_lexer": "ipython3",
   "version": "3.7.4"
  }
 },
 "nbformat": 4,
 "nbformat_minor": 2
}
